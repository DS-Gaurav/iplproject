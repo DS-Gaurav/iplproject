{
 "cells": [
  {
   "cell_type": "code",
   "execution_count": 78,
   "id": "6dfa8fe8-ca63-4bb2-abb9-ef6e3edca629",
   "metadata": {},
   "outputs": [],
   "source": [
    "#import libraries\n",
    "import numpy as np\n",
    "import pandas as pd\n",
    "import matplotlib.pyplot as plt\n",
    "from sklearn import linear_model as lm"
   ]
  },
  {
   "cell_type": "code",
   "execution_count": 30,
   "id": "4287f1b3-3464-4e62-b344-1fd84f42cbed",
   "metadata": {},
   "outputs": [],
   "source": [
    "x16=pd.read_csv(r\"C:\\Users\\hp\\OneDrive\\Desktop\\internship\\BATTING STATS - IPL_2016.csv\")\n",
    "x16['year']=2016"
   ]
  },
  {
   "cell_type": "code",
   "execution_count": 31,
   "id": "421b30a5-7e7b-46b0-ba02-8a9df1a0222b",
   "metadata": {},
   "outputs": [],
   "source": [
    "x17=pd.read_csv(r\"C:\\Users\\hp\\OneDrive\\Desktop\\internship\\BATTING STATS - IPL_2017.csv\")\n",
    "x17['year']=2017"
   ]
  },
  {
   "cell_type": "code",
   "execution_count": 32,
   "id": "4cc2a472-9d90-4fd0-9806-69435d5c3ea0",
   "metadata": {},
   "outputs": [],
   "source": [
    "x18=pd.read_csv(r\"C:\\Users\\hp\\OneDrive\\Desktop\\internship\\BATTING STATS - IPL_2018.csv\")\n",
    "x19=pd.read_csv(r\"C:\\Users\\hp\\OneDrive\\Desktop\\internship\\BATTING STATS - IPL_2019.csv\")\n",
    "x20=pd.read_csv(r\"C:\\Users\\hp\\OneDrive\\Desktop\\internship\\BATTING STATS - IPL_2020.csv\")\n",
    "x21=pd.read_csv(r\"C:\\Users\\hp\\OneDrive\\Desktop\\internship\\BATTING STATS - IPL_2021.csv\")\n",
    "x22=pd.read_csv(r\"C:\\Users\\hp\\OneDrive\\Desktop\\internship\\BATTING STATS - IPL_2022.csv\")\n",
    "x18['year']=2018\n",
    "x19['year']=2019\n",
    "x20['year']=2020\n",
    "x21['year']=2021\n",
    "x22['year']=2022"
   ]
  },
  {
   "cell_type": "code",
   "execution_count": 33,
   "id": "4c6e3285-e50a-4aaa-8858-d3160362212c",
   "metadata": {},
   "outputs": [],
   "source": [
    "#append all data\n",
    "x=pd.concat([x16,x17,x18,x19,x20,x21,x22],ignore_index=True)"
   ]
  },
  {
   "cell_type": "code",
   "execution_count": 34,
   "id": "70d36314-6fe4-4d40-a235-e0d74e5ff86c",
   "metadata": {},
   "outputs": [
    {
     "data": {
      "text/html": [
       "<div>\n",
       "<style scoped>\n",
       "    .dataframe tbody tr th:only-of-type {\n",
       "        vertical-align: middle;\n",
       "    }\n",
       "\n",
       "    .dataframe tbody tr th {\n",
       "        vertical-align: top;\n",
       "    }\n",
       "\n",
       "    .dataframe thead th {\n",
       "        text-align: right;\n",
       "    }\n",
       "</style>\n",
       "<table border=\"1\" class=\"dataframe\">\n",
       "  <thead>\n",
       "    <tr style=\"text-align: right;\">\n",
       "      <th></th>\n",
       "      <th>POS</th>\n",
       "      <th>Player</th>\n",
       "      <th>Mat</th>\n",
       "      <th>Inns</th>\n",
       "      <th>NO</th>\n",
       "      <th>Runs</th>\n",
       "      <th>HS</th>\n",
       "      <th>Avg</th>\n",
       "      <th>BF</th>\n",
       "      <th>SR</th>\n",
       "      <th>100</th>\n",
       "      <th>50</th>\n",
       "      <th>4s</th>\n",
       "      <th>6s</th>\n",
       "      <th>year</th>\n",
       "    </tr>\n",
       "  </thead>\n",
       "  <tbody>\n",
       "    <tr>\n",
       "      <th>0</th>\n",
       "      <td>1</td>\n",
       "      <td>Virat Kohli</td>\n",
       "      <td>16</td>\n",
       "      <td>16</td>\n",
       "      <td>4</td>\n",
       "      <td>973</td>\n",
       "      <td>113</td>\n",
       "      <td>81.08</td>\n",
       "      <td>640</td>\n",
       "      <td>152.03</td>\n",
       "      <td>4</td>\n",
       "      <td>7</td>\n",
       "      <td>83</td>\n",
       "      <td>38</td>\n",
       "      <td>2016</td>\n",
       "    </tr>\n",
       "    <tr>\n",
       "      <th>1</th>\n",
       "      <td>2</td>\n",
       "      <td>David Warner</td>\n",
       "      <td>17</td>\n",
       "      <td>17</td>\n",
       "      <td>3</td>\n",
       "      <td>848</td>\n",
       "      <td>93*</td>\n",
       "      <td>60.57</td>\n",
       "      <td>560</td>\n",
       "      <td>151.42</td>\n",
       "      <td>0</td>\n",
       "      <td>9</td>\n",
       "      <td>88</td>\n",
       "      <td>31</td>\n",
       "      <td>2016</td>\n",
       "    </tr>\n",
       "    <tr>\n",
       "      <th>2</th>\n",
       "      <td>3</td>\n",
       "      <td>AB de Villiers</td>\n",
       "      <td>16</td>\n",
       "      <td>16</td>\n",
       "      <td>3</td>\n",
       "      <td>687</td>\n",
       "      <td>129*</td>\n",
       "      <td>52.84</td>\n",
       "      <td>407</td>\n",
       "      <td>168.79</td>\n",
       "      <td>1</td>\n",
       "      <td>6</td>\n",
       "      <td>57</td>\n",
       "      <td>37</td>\n",
       "      <td>2016</td>\n",
       "    </tr>\n",
       "    <tr>\n",
       "      <th>3</th>\n",
       "      <td>4</td>\n",
       "      <td>Gautam Gambhir</td>\n",
       "      <td>15</td>\n",
       "      <td>15</td>\n",
       "      <td>2</td>\n",
       "      <td>501</td>\n",
       "      <td>90*</td>\n",
       "      <td>38.53</td>\n",
       "      <td>411</td>\n",
       "      <td>121.89</td>\n",
       "      <td>0</td>\n",
       "      <td>5</td>\n",
       "      <td>54</td>\n",
       "      <td>6</td>\n",
       "      <td>2016</td>\n",
       "    </tr>\n",
       "    <tr>\n",
       "      <th>4</th>\n",
       "      <td>5</td>\n",
       "      <td>Shikhar Dhawan</td>\n",
       "      <td>17</td>\n",
       "      <td>17</td>\n",
       "      <td>4</td>\n",
       "      <td>501</td>\n",
       "      <td>82*</td>\n",
       "      <td>38.53</td>\n",
       "      <td>429</td>\n",
       "      <td>116.78</td>\n",
       "      <td>0</td>\n",
       "      <td>4</td>\n",
       "      <td>51</td>\n",
       "      <td>8</td>\n",
       "      <td>2016</td>\n",
       "    </tr>\n",
       "  </tbody>\n",
       "</table>\n",
       "</div>"
      ],
      "text/plain": [
       "   POS          Player  Mat  Inns  NO  Runs    HS    Avg   BF      SR  100  \\\n",
       "0    1     Virat Kohli   16    16   4   973   113  81.08  640  152.03    4   \n",
       "1    2    David Warner   17    17   3   848   93*  60.57  560  151.42    0   \n",
       "2    3  AB de Villiers   16    16   3   687  129*  52.84  407  168.79    1   \n",
       "3    4  Gautam Gambhir   15    15   2   501   90*  38.53  411  121.89    0   \n",
       "4    5  Shikhar Dhawan   17    17   4   501   82*  38.53  429  116.78    0   \n",
       "\n",
       "   50  4s  6s  year  \n",
       "0   7  83  38  2016  \n",
       "1   9  88  31  2016  \n",
       "2   6  57  37  2016  \n",
       "3   5  54   6  2016  \n",
       "4   4  51   8  2016  "
      ]
     },
     "execution_count": 34,
     "metadata": {},
     "output_type": "execute_result"
    }
   ],
   "source": [
    "x.head()"
   ]
  },
  {
   "cell_type": "code",
   "execution_count": 35,
   "id": "b169c4d6-c7d6-4c95-81d2-65a402b88fd5",
   "metadata": {},
   "outputs": [
    {
     "data": {
      "text/plain": [
       "0"
      ]
     },
     "execution_count": 35,
     "metadata": {},
     "output_type": "execute_result"
    }
   ],
   "source": [
    "x.duplicated().sum()"
   ]
  },
  {
   "cell_type": "code",
   "execution_count": 36,
   "id": "75060aad-2e0c-467d-9daa-9ce6c19e26a0",
   "metadata": {},
   "outputs": [
    {
     "data": {
      "text/plain": [
       "POS       0\n",
       "Player    0\n",
       "Mat       0\n",
       "Inns      0\n",
       "NO        0\n",
       "Runs      0\n",
       "HS        0\n",
       "Avg       0\n",
       "BF        0\n",
       "SR        0\n",
       "100       0\n",
       "50        0\n",
       "4s        0\n",
       "6s        0\n",
       "year      0\n",
       "dtype: int64"
      ]
     },
     "execution_count": 36,
     "metadata": {},
     "output_type": "execute_result"
    }
   ],
   "source": [
    "x.isna().sum()"
   ]
  },
  {
   "cell_type": "code",
   "execution_count": 37,
   "id": "030bace2-3906-41b2-8d9b-4f4aed552974",
   "metadata": {},
   "outputs": [],
   "source": [
    "y=x[x['Player']=='Virat Kohli']"
   ]
  },
  {
   "cell_type": "code",
   "execution_count": 38,
   "id": "5cee21c4-d9bb-459e-8712-068e9bf9d398",
   "metadata": {},
   "outputs": [
    {
     "data": {
      "text/html": [
       "<div>\n",
       "<style scoped>\n",
       "    .dataframe tbody tr th:only-of-type {\n",
       "        vertical-align: middle;\n",
       "    }\n",
       "\n",
       "    .dataframe tbody tr th {\n",
       "        vertical-align: top;\n",
       "    }\n",
       "\n",
       "    .dataframe thead th {\n",
       "        text-align: right;\n",
       "    }\n",
       "</style>\n",
       "<table border=\"1\" class=\"dataframe\">\n",
       "  <thead>\n",
       "    <tr style=\"text-align: right;\">\n",
       "      <th></th>\n",
       "      <th>Player</th>\n",
       "      <th>Mat</th>\n",
       "      <th>Inns</th>\n",
       "      <th>NO</th>\n",
       "      <th>Runs</th>\n",
       "      <th>HS</th>\n",
       "      <th>Avg</th>\n",
       "      <th>BF</th>\n",
       "      <th>SR</th>\n",
       "      <th>100</th>\n",
       "      <th>50</th>\n",
       "      <th>4s</th>\n",
       "      <th>6s</th>\n",
       "      <th>year</th>\n",
       "    </tr>\n",
       "  </thead>\n",
       "  <tbody>\n",
       "    <tr>\n",
       "      <th>0</th>\n",
       "      <td>Virat Kohli</td>\n",
       "      <td>16</td>\n",
       "      <td>16</td>\n",
       "      <td>4</td>\n",
       "      <td>973</td>\n",
       "      <td>113</td>\n",
       "      <td>81.08</td>\n",
       "      <td>640</td>\n",
       "      <td>152.03</td>\n",
       "      <td>4</td>\n",
       "      <td>7</td>\n",
       "      <td>83</td>\n",
       "      <td>38</td>\n",
       "      <td>2016</td>\n",
       "    </tr>\n",
       "    <tr>\n",
       "      <th>158</th>\n",
       "      <td>Virat Kohli</td>\n",
       "      <td>10</td>\n",
       "      <td>10</td>\n",
       "      <td>0</td>\n",
       "      <td>308</td>\n",
       "      <td>64</td>\n",
       "      <td>30.8</td>\n",
       "      <td>252</td>\n",
       "      <td>122.22</td>\n",
       "      <td>0</td>\n",
       "      <td>4</td>\n",
       "      <td>23</td>\n",
       "      <td>11</td>\n",
       "      <td>2017</td>\n",
       "    </tr>\n",
       "    <tr>\n",
       "      <th>285</th>\n",
       "      <td>Virat Kohli</td>\n",
       "      <td>14</td>\n",
       "      <td>14</td>\n",
       "      <td>3</td>\n",
       "      <td>530</td>\n",
       "      <td>92*</td>\n",
       "      <td>48.18</td>\n",
       "      <td>381</td>\n",
       "      <td>139.10</td>\n",
       "      <td>0</td>\n",
       "      <td>4</td>\n",
       "      <td>52</td>\n",
       "      <td>18</td>\n",
       "      <td>2018</td>\n",
       "    </tr>\n",
       "    <tr>\n",
       "      <th>424</th>\n",
       "      <td>Virat Kohli</td>\n",
       "      <td>14</td>\n",
       "      <td>14</td>\n",
       "      <td>0</td>\n",
       "      <td>464</td>\n",
       "      <td>100</td>\n",
       "      <td>33.14</td>\n",
       "      <td>328</td>\n",
       "      <td>141.46</td>\n",
       "      <td>1</td>\n",
       "      <td>2</td>\n",
       "      <td>46</td>\n",
       "      <td>13</td>\n",
       "      <td>2019</td>\n",
       "    </tr>\n",
       "    <tr>\n",
       "      <th>569</th>\n",
       "      <td>Virat Kohli</td>\n",
       "      <td>15</td>\n",
       "      <td>15</td>\n",
       "      <td>4</td>\n",
       "      <td>466</td>\n",
       "      <td>90*</td>\n",
       "      <td>42.36</td>\n",
       "      <td>384</td>\n",
       "      <td>121.35</td>\n",
       "      <td>0</td>\n",
       "      <td>3</td>\n",
       "      <td>23</td>\n",
       "      <td>11</td>\n",
       "      <td>2020</td>\n",
       "    </tr>\n",
       "    <tr>\n",
       "      <th>705</th>\n",
       "      <td>Virat Kohli</td>\n",
       "      <td>15</td>\n",
       "      <td>15</td>\n",
       "      <td>1</td>\n",
       "      <td>405</td>\n",
       "      <td>72*</td>\n",
       "      <td>28.92</td>\n",
       "      <td>339</td>\n",
       "      <td>119.46</td>\n",
       "      <td>0</td>\n",
       "      <td>3</td>\n",
       "      <td>43</td>\n",
       "      <td>9</td>\n",
       "      <td>2021</td>\n",
       "    </tr>\n",
       "    <tr>\n",
       "      <th>864</th>\n",
       "      <td>Virat Kohli</td>\n",
       "      <td>16</td>\n",
       "      <td>16</td>\n",
       "      <td>1</td>\n",
       "      <td>341</td>\n",
       "      <td>73</td>\n",
       "      <td>22.73</td>\n",
       "      <td>294</td>\n",
       "      <td>115.98</td>\n",
       "      <td>0</td>\n",
       "      <td>2</td>\n",
       "      <td>32</td>\n",
       "      <td>8</td>\n",
       "      <td>2022</td>\n",
       "    </tr>\n",
       "  </tbody>\n",
       "</table>\n",
       "</div>"
      ],
      "text/plain": [
       "          Player  Mat  Inns  NO  Runs   HS    Avg   BF      SR  100  50  4s  \\\n",
       "0    Virat Kohli   16    16   4   973  113  81.08  640  152.03    4   7  83   \n",
       "158  Virat Kohli   10    10   0   308   64   30.8  252  122.22    0   4  23   \n",
       "285  Virat Kohli   14    14   3   530  92*  48.18  381  139.10    0   4  52   \n",
       "424  Virat Kohli   14    14   0   464  100  33.14  328  141.46    1   2  46   \n",
       "569  Virat Kohli   15    15   4   466  90*  42.36  384  121.35    0   3  23   \n",
       "705  Virat Kohli   15    15   1   405  72*  28.92  339  119.46    0   3  43   \n",
       "864  Virat Kohli   16    16   1   341   73  22.73  294  115.98    0   2  32   \n",
       "\n",
       "     6s  year  \n",
       "0    38  2016  \n",
       "158  11  2017  \n",
       "285  18  2018  \n",
       "424  13  2019  \n",
       "569  11  2020  \n",
       "705   9  2021  \n",
       "864   8  2022  "
      ]
     },
     "execution_count": 38,
     "metadata": {},
     "output_type": "execute_result"
    }
   ],
   "source": [
    "y.drop(['POS'],axis=1)"
   ]
  },
  {
   "cell_type": "code",
   "execution_count": 39,
   "id": "53a169b4-7bf3-45a4-ba90-94a6852768a9",
   "metadata": {},
   "outputs": [
    {
     "name": "stdout",
     "output_type": "stream",
     "text": [
      "<class 'pandas.core.frame.DataFrame'>\n",
      "Int64Index: 7 entries, 0 to 864\n",
      "Data columns (total 15 columns):\n",
      " #   Column  Non-Null Count  Dtype  \n",
      "---  ------  --------------  -----  \n",
      " 0   POS     7 non-null      int64  \n",
      " 1   Player  7 non-null      object \n",
      " 2   Mat     7 non-null      int64  \n",
      " 3   Inns    7 non-null      int64  \n",
      " 4   NO      7 non-null      int64  \n",
      " 5   Runs    7 non-null      int64  \n",
      " 6   HS      7 non-null      object \n",
      " 7   Avg     7 non-null      object \n",
      " 8   BF      7 non-null      int64  \n",
      " 9   SR      7 non-null      float64\n",
      " 10  100     7 non-null      int64  \n",
      " 11  50      7 non-null      int64  \n",
      " 12  4s      7 non-null      int64  \n",
      " 13  6s      7 non-null      int64  \n",
      " 14  year    7 non-null      int64  \n",
      "dtypes: float64(1), int64(11), object(3)\n",
      "memory usage: 896.0+ bytes\n"
     ]
    }
   ],
   "source": [
    "y.info()"
   ]
  },
  {
   "cell_type": "code",
   "execution_count": 40,
   "id": "75f7edb3-c465-4c15-9c6e-ad61f48964e0",
   "metadata": {},
   "outputs": [
    {
     "name": "stderr",
     "output_type": "stream",
     "text": [
      "C:\\Users\\hp\\AppData\\Local\\Temp\\ipykernel_15852\\3915182164.py:1: SettingWithCopyWarning: \n",
      "A value is trying to be set on a copy of a slice from a DataFrame.\n",
      "Try using .loc[row_indexer,col_indexer] = value instead\n",
      "\n",
      "See the caveats in the documentation: https://pandas.pydata.org/pandas-docs/stable/user_guide/indexing.html#returning-a-view-versus-a-copy\n",
      "  y['Avg']=y['Avg'].astype(float)\n"
     ]
    },
    {
     "data": {
      "text/plain": [
       "[<matplotlib.lines.Line2D at 0x2976399cdf0>]"
      ]
     },
     "execution_count": 40,
     "metadata": {},
     "output_type": "execute_result"
    },
    {
     "data": {
      "image/png": "[encoded data removed]",
      "text/plain": [
       "<Figure size 640x480 with 1 Axes>"
      ]
     },
     "metadata": {},
     "output_type": "display_data"
    }
   ],
   "source": [
    "y['Avg']=y['Avg'].astype(float)\n",
    "plt.title('year wise batting average')\n",
    "plt.xlabel('year')\n",
    "plt.ylabel('batting average')\n",
    "plt.plot(y['year'],y['Avg'])"
   ]
  },
  {
   "cell_type": "code",
   "execution_count": 41,
   "id": "53adc6cc-6a50-4080-b901-9dab2c7516eb",
   "metadata": {},
   "outputs": [
    {
     "name": "stdout",
     "output_type": "stream",
     "text": [
      "<class 'pandas.core.frame.DataFrame'>\n",
      "Int64Index: 7 entries, 0 to 864\n",
      "Data columns (total 15 columns):\n",
      " #   Column  Non-Null Count  Dtype  \n",
      "---  ------  --------------  -----  \n",
      " 0   POS     7 non-null      int64  \n",
      " 1   Player  7 non-null      object \n",
      " 2   Mat     7 non-null      int64  \n",
      " 3   Inns    7 non-null      int64  \n",
      " 4   NO      7 non-null      int64  \n",
      " 5   Runs    7 non-null      int64  \n",
      " 6   HS      7 non-null      object \n",
      " 7   Avg     7 non-null      float64\n",
      " 8   BF      7 non-null      int64  \n",
      " 9   SR      7 non-null      float64\n",
      " 10  100     7 non-null      int64  \n",
      " 11  50      7 non-null      int64  \n",
      " 12  4s      7 non-null      int64  \n",
      " 13  6s      7 non-null      int64  \n",
      " 14  year    7 non-null      int64  \n",
      "dtypes: float64(2), int64(11), object(2)\n",
      "memory usage: 896.0+ bytes\n"
     ]
    }
   ],
   "source": [
    "y.info()"
   ]
  },
  {
   "cell_type": "code",
   "execution_count": 42,
   "id": "ca53ab1e-d637-429f-9efc-e7583d852f62",
   "metadata": {},
   "outputs": [
    {
     "data": {
      "text/plain": [
       "[<matplotlib.lines.Line2D at 0x29763a140d0>]"
      ]
     },
     "execution_count": 42,
     "metadata": {},
     "output_type": "execute_result"
    },
    {
     "data": {
      "image/png": "[encoded data removed]",
      "text/plain": [
       "<Figure size 640x480 with 1 Axes>"
      ]
     },
     "metadata": {},
     "output_type": "display_data"
    }
   ],
   "source": [
    "plt.title('year wise strike rate')\n",
    "plt.xlabel('year')\n",
    "plt.ylabel('Strike rate')\n",
    "plt.plot(y['year'],y['SR'])"
   ]
  },
  {
   "cell_type": "code",
   "execution_count": 43,
   "id": "89b149cc-da81-4d8b-af6d-2e8e20d954ec",
   "metadata": {},
   "outputs": [
    {
     "data": {
      "text/html": [
       "<div>\n",
       "<style scoped>\n",
       "    .dataframe tbody tr th:only-of-type {\n",
       "        vertical-align: middle;\n",
       "    }\n",
       "\n",
       "    .dataframe tbody tr th {\n",
       "        vertical-align: top;\n",
       "    }\n",
       "\n",
       "    .dataframe thead th {\n",
       "        text-align: right;\n",
       "    }\n",
       "</style>\n",
       "<table border=\"1\" class=\"dataframe\">\n",
       "  <thead>\n",
       "    <tr style=\"text-align: right;\">\n",
       "      <th></th>\n",
       "      <th>count</th>\n",
       "      <th>mean</th>\n",
       "      <th>std</th>\n",
       "      <th>min</th>\n",
       "      <th>25%</th>\n",
       "      <th>50%</th>\n",
       "      <th>75%</th>\n",
       "      <th>max</th>\n",
       "    </tr>\n",
       "  </thead>\n",
       "  <tbody>\n",
       "    <tr>\n",
       "      <th>POS</th>\n",
       "      <td>1005.0</td>\n",
       "      <td>72.569154</td>\n",
       "      <td>41.970802</td>\n",
       "      <td>1.0</td>\n",
       "      <td>36.00</td>\n",
       "      <td>72.0</td>\n",
       "      <td>108.00</td>\n",
       "      <td>162.0</td>\n",
       "    </tr>\n",
       "    <tr>\n",
       "      <th>Mat</th>\n",
       "      <td>1005.0</td>\n",
       "      <td>9.005970</td>\n",
       "      <td>4.957585</td>\n",
       "      <td>1.0</td>\n",
       "      <td>5.00</td>\n",
       "      <td>9.0</td>\n",
       "      <td>14.00</td>\n",
       "      <td>17.0</td>\n",
       "    </tr>\n",
       "    <tr>\n",
       "      <th>Inns</th>\n",
       "      <td>1005.0</td>\n",
       "      <td>6.562189</td>\n",
       "      <td>4.870981</td>\n",
       "      <td>1.0</td>\n",
       "      <td>2.00</td>\n",
       "      <td>5.0</td>\n",
       "      <td>11.00</td>\n",
       "      <td>17.0</td>\n",
       "    </tr>\n",
       "    <tr>\n",
       "      <th>NO</th>\n",
       "      <td>1005.0</td>\n",
       "      <td>1.530348</td>\n",
       "      <td>1.622281</td>\n",
       "      <td>0.0</td>\n",
       "      <td>0.00</td>\n",
       "      <td>1.0</td>\n",
       "      <td>2.00</td>\n",
       "      <td>10.0</td>\n",
       "    </tr>\n",
       "    <tr>\n",
       "      <th>Runs</th>\n",
       "      <td>1005.0</td>\n",
       "      <td>132.156219</td>\n",
       "      <td>162.894059</td>\n",
       "      <td>0.0</td>\n",
       "      <td>10.00</td>\n",
       "      <td>55.0</td>\n",
       "      <td>217.00</td>\n",
       "      <td>973.0</td>\n",
       "    </tr>\n",
       "    <tr>\n",
       "      <th>BF</th>\n",
       "      <td>1005.0</td>\n",
       "      <td>99.535323</td>\n",
       "      <td>116.450484</td>\n",
       "      <td>1.0</td>\n",
       "      <td>12.00</td>\n",
       "      <td>44.0</td>\n",
       "      <td>161.00</td>\n",
       "      <td>640.0</td>\n",
       "    </tr>\n",
       "    <tr>\n",
       "      <th>SR</th>\n",
       "      <td>1005.0</td>\n",
       "      <td>112.208577</td>\n",
       "      <td>48.040814</td>\n",
       "      <td>0.0</td>\n",
       "      <td>88.88</td>\n",
       "      <td>120.0</td>\n",
       "      <td>139.82</td>\n",
       "      <td>400.0</td>\n",
       "    </tr>\n",
       "    <tr>\n",
       "      <th>100</th>\n",
       "      <td>1005.0</td>\n",
       "      <td>0.039801</td>\n",
       "      <td>0.264816</td>\n",
       "      <td>0.0</td>\n",
       "      <td>0.00</td>\n",
       "      <td>0.0</td>\n",
       "      <td>0.00</td>\n",
       "      <td>4.0</td>\n",
       "    </tr>\n",
       "    <tr>\n",
       "      <th>50</th>\n",
       "      <td>1005.0</td>\n",
       "      <td>0.717413</td>\n",
       "      <td>1.338871</td>\n",
       "      <td>0.0</td>\n",
       "      <td>0.00</td>\n",
       "      <td>0.0</td>\n",
       "      <td>1.00</td>\n",
       "      <td>9.0</td>\n",
       "    </tr>\n",
       "    <tr>\n",
       "      <th>4s</th>\n",
       "      <td>1005.0</td>\n",
       "      <td>11.633831</td>\n",
       "      <td>15.730210</td>\n",
       "      <td>0.0</td>\n",
       "      <td>1.00</td>\n",
       "      <td>4.0</td>\n",
       "      <td>18.00</td>\n",
       "      <td>88.0</td>\n",
       "    </tr>\n",
       "    <tr>\n",
       "      <th>6s</th>\n",
       "      <td>1005.0</td>\n",
       "      <td>5.454726</td>\n",
       "      <td>7.500278</td>\n",
       "      <td>0.0</td>\n",
       "      <td>0.00</td>\n",
       "      <td>2.0</td>\n",
       "      <td>9.00</td>\n",
       "      <td>52.0</td>\n",
       "    </tr>\n",
       "    <tr>\n",
       "      <th>year</th>\n",
       "      <td>1005.0</td>\n",
       "      <td>2019.084577</td>\n",
       "      <td>2.024209</td>\n",
       "      <td>2016.0</td>\n",
       "      <td>2017.00</td>\n",
       "      <td>2019.0</td>\n",
       "      <td>2021.00</td>\n",
       "      <td>2022.0</td>\n",
       "    </tr>\n",
       "  </tbody>\n",
       "</table>\n",
       "</div>"
      ],
      "text/plain": [
       "       count         mean         std     min      25%     50%      75%  \\\n",
       "POS   1005.0    72.569154   41.970802     1.0    36.00    72.0   108.00   \n",
       "Mat   1005.0     9.005970    4.957585     1.0     5.00     9.0    14.00   \n",
       "Inns  1005.0     6.562189    4.870981     1.0     2.00     5.0    11.00   \n",
       "NO    1005.0     1.530348    1.622281     0.0     0.00     1.0     2.00   \n",
       "Runs  1005.0   132.156219  162.894059     0.0    10.00    55.0   217.00   \n",
       "BF    1005.0    99.535323  116.450484     1.0    12.00    44.0   161.00   \n",
       "SR    1005.0   112.208577   48.040814     0.0    88.88   120.0   139.82   \n",
       "100   1005.0     0.039801    0.264816     0.0     0.00     0.0     0.00   \n",
       "50    1005.0     0.717413    1.338871     0.0     0.00     0.0     1.00   \n",
       "4s    1005.0    11.633831   15.730210     0.0     1.00     4.0    18.00   \n",
       "6s    1005.0     5.454726    7.500278     0.0     0.00     2.0     9.00   \n",
       "year  1005.0  2019.084577    2.024209  2016.0  2017.00  2019.0  2021.00   \n",
       "\n",
       "         max  \n",
       "POS    162.0  \n",
       "Mat     17.0  \n",
       "Inns    17.0  \n",
       "NO      10.0  \n",
       "Runs   973.0  \n",
       "BF     640.0  \n",
       "SR     400.0  \n",
       "100      4.0  \n",
       "50       9.0  \n",
       "4s      88.0  \n",
       "6s      52.0  \n",
       "year  2022.0  "
      ]
     },
     "execution_count": 43,
     "metadata": {},
     "output_type": "execute_result"
    }
   ],
   "source": [
    "x.describe().T"
   ]
  },
  {
   "cell_type": "code",
   "execution_count": 44,
   "id": "93a651ae-6783-423c-ab61-f276ced3c56e",
   "metadata": {},
   "outputs": [
    {
     "name": "stdout",
     "output_type": "stream",
     "text": [
      "<class 'pandas.core.frame.DataFrame'>\n",
      "RangeIndex: 1005 entries, 0 to 1004\n",
      "Data columns (total 15 columns):\n",
      " #   Column  Non-Null Count  Dtype  \n",
      "---  ------  --------------  -----  \n",
      " 0   POS     1005 non-null   int64  \n",
      " 1   Player  1005 non-null   object \n",
      " 2   Mat     1005 non-null   int64  \n",
      " 3   Inns    1005 non-null   int64  \n",
      " 4   NO      1005 non-null   int64  \n",
      " 5   Runs    1005 non-null   int64  \n",
      " 6   HS      1005 non-null   object \n",
      " 7   Avg     1005 non-null   object \n",
      " 8   BF      1005 non-null   int64  \n",
      " 9   SR      1005 non-null   float64\n",
      " 10  100     1005 non-null   int64  \n",
      " 11  50      1005 non-null   int64  \n",
      " 12  4s      1005 non-null   int64  \n",
      " 13  6s      1005 non-null   int64  \n",
      " 14  year    1005 non-null   int64  \n",
      "dtypes: float64(1), int64(11), object(3)\n",
      "memory usage: 117.9+ KB\n"
     ]
    }
   ],
   "source": [
    "x.info()"
   ]
  },
  {
   "cell_type": "code",
   "execution_count": 65,
   "id": "8c9b2ecb-e065-436a-99c1-ad7c32ee6b9f",
   "metadata": {},
   "outputs": [
    {
     "name": "stdout",
     "output_type": "stream",
     "text": [
      "Index(['Jos Buttler', 'KL Rahul'], dtype='object', name='Player')\n"
     ]
    }
   ],
   "source": [
    "#opening player\n",
    "y=x.loc[(x['SR']>x['SR'].mean()) & (x['Runs']>x['Runs'].mean()) & (x['100']>=2) & (x['50']>=4)].value_counts('Player')\n",
    "z=y.head(2).index\n",
    "print(z)"
   ]
  },
  {
   "cell_type": "code",
   "execution_count": 62,
   "id": "52f4b250-7508-44d5-9ba9-6160b876008c",
   "metadata": {},
   "outputs": [
    {
     "data": {
      "text/plain": [
       "Player\n",
       "KL Rahul           3\n",
       "David Warner       2\n",
       "Quinton de Kock    2\n",
       "AB de Villiers     1\n",
       "Ambati Rayudu      1\n",
       "Chris Gayle        1\n",
       "Jos Buttler        1\n",
       "Rishabh Pant       1\n",
       "Ruturaj Gaikwad    1\n",
       "Shikhar Dhawan     1\n",
       "Virat Kohli        1\n",
       "dtype: int64"
      ]
     },
     "execution_count": 62,
     "metadata": {},
     "output_type": "execute_result"
    }
   ],
   "source": [
    "x.loc[(x['SR']>=x['SR'].mean()) & (x['Runs']>=x['Runs'].mean()) & (x['100']>=1) & (x['50']>=3)].value_counts('Player')"
   ]
  },
  {
   "cell_type": "code",
   "execution_count": 76,
   "id": "7a498c88-7948-4aa2-aee3-cbcf67a2058a",
   "metadata": {},
   "outputs": [
    {
     "data": {
      "text/plain": [
       "<matplotlib.collections.PathCollection at 0x2976a8b5730>"
      ]
     },
     "execution_count": 76,
     "metadata": {},
     "output_type": "execute_result"
    },
    {
     "data": {
      "image/png": "[encoded data removed]",
      "text/plain": [
       "<Figure size 640x480 with 1 Axes>"
      ]
     },
     "metadata": {},
     "output_type": "display_data"
    }
   ],
   "source": [
    "plt.scatter(x['SR'],x['Runs'])"
   ]
  },
  {
   "cell_type": "code",
   "execution_count": 81,
   "id": "e23efacc-0eff-42ba-b991-918661670cb2",
   "metadata": {},
   "outputs": [
    {
     "data": {
      "text/html": [
       "<style>#sk-container-id-1 {color: black;}#sk-container-id-1 pre{padding: 0;}#sk-container-id-1 div.sk-toggleable {background-color: white;}#sk-container-id-1 label.sk-toggleable__label {cursor: pointer;display: block;width: 100%;margin-bottom: 0;padding: 0.3em;box-sizing: border-box;text-align: center;}#sk-container-id-1 label.sk-toggleable__label-arrow:before {content: \"▸\";float: left;margin-right: 0.25em;color: #696969;}#sk-container-id-1 label.sk-toggleable__label-arrow:hover:before {color: black;}#sk-container-id-1 div.sk-estimator:hover label.sk-toggleable__label-arrow:before {color: black;}#sk-container-id-1 div.sk-toggleable__content {max-height: 0;max-width: 0;overflow: hidden;text-align: left;background-color: #f0f8ff;}#sk-container-id-1 div.sk-toggleable__content pre {margin: 0.2em;color: black;border-radius: 0.25em;background-color: #f0f8ff;}#sk-container-id-1 input.sk-toggleable__control:checked~div.sk-toggleable__content {max-height: 200px;max-width: 100%;overflow: auto;}#sk-container-id-1 input.sk-toggleable__control:checked~label.sk-toggleable__label-arrow:before {content: \"▾\";}#sk-container-id-1 div.sk-estimator input.sk-toggleable__control:checked~label.sk-toggleable__label {background-color: #d4ebff;}#sk-container-id-1 div.sk-label input.sk-toggleable__control:checked~label.sk-toggleable__label {background-color: #d4ebff;}#sk-container-id-1 input.sk-hidden--visually {border: 0;clip: rect(1px 1px 1px 1px);clip: rect(1px, 1px, 1px, 1px);height: 1px;margin: -1px;overflow: hidden;padding: 0;position: absolute;width: 1px;}#sk-container-id-1 div.sk-estimator {font-family: monospace;background-color: #f0f8ff;border: 1px dotted black;border-radius: 0.25em;box-sizing: border-box;margin-bottom: 0.5em;}#sk-container-id-1 div.sk-estimator:hover {background-color: #d4ebff;}#sk-container-id-1 div.sk-parallel-item::after {content: \"\";width: 100%;border-bottom: 1px solid gray;flex-grow: 1;}#sk-container-id-1 div.sk-label:hover label.sk-toggleable__label {background-color: #d4ebff;}#sk-container-id-1 div.sk-serial::before {content: \"\";position: absolute;border-left: 1px solid gray;box-sizing: border-box;top: 0;bottom: 0;left: 50%;z-index: 0;}#sk-container-id-1 div.sk-serial {display: flex;flex-direction: column;align-items: center;background-color: white;padding-right: 0.2em;padding-left: 0.2em;position: relative;}#sk-container-id-1 div.sk-item {position: relative;z-index: 1;}#sk-container-id-1 div.sk-parallel {display: flex;align-items: stretch;justify-content: center;background-color: white;position: relative;}#sk-container-id-1 div.sk-item::before, #sk-container-id-1 div.sk-parallel-item::before {content: \"\";position: absolute;border-left: 1px solid gray;box-sizing: border-box;top: 0;bottom: 0;left: 50%;z-index: -1;}#sk-container-id-1 div.sk-parallel-item {display: flex;flex-direction: column;z-index: 1;position: relative;background-color: white;}#sk-container-id-1 div.sk-parallel-item:first-child::after {align-self: flex-end;width: 50%;}#sk-container-id-1 div.sk-parallel-item:last-child::after {align-self: flex-start;width: 50%;}#sk-container-id-1 div.sk-parallel-item:only-child::after {width: 0;}#sk-container-id-1 div.sk-dashed-wrapped {border: 1px dashed gray;margin: 0 0.4em 0.5em 0.4em;box-sizing: border-box;padding-bottom: 0.4em;background-color: white;}#sk-container-id-1 div.sk-label label {font-family: monospace;font-weight: bold;display: inline-block;line-height: 1.2em;}#sk-container-id-1 div.sk-label-container {text-align: center;}#sk-container-id-1 div.sk-container {/* jupyter's `normalize.less` sets `[hidden] { display: none; }` but bootstrap.min.css set `[hidden] { display: none !important; }` so we also need the `!important` here to be able to override the default hidden behavior on the sphinx rendered scikit-learn.org. See: https://github.com/scikit-learn/scikit-learn/issues/21755 */display: inline-block !important;position: relative;}#sk-container-id-1 div.sk-text-repr-fallback {display: none;}</style><div id=\"sk-container-id-1\" class=\"sk-top-container\"><div class=\"sk-text-repr-fallback\"><pre>LinearRegression()</pre><b>In a Jupyter environment, please rerun this cell to show the HTML representation or trust the notebook. <br />On GitHub, the HTML representation is unable to render, please try loading this page with nbviewer.org.</b></div><div class=\"sk-container\" hidden><div class=\"sk-item\"><div class=\"sk-estimator sk-toggleable\"><input class=\"sk-toggleable__control sk-hidden--visually\" id=\"sk-estimator-id-1\" type=\"checkbox\" checked><label for=\"sk-estimator-id-1\" class=\"sk-toggleable__label sk-toggleable__label-arrow\">LinearRegression</label><div class=\"sk-toggleable__content\"><pre>LinearRegression()</pre></div></div></div></div></div>"
      ],
      "text/plain": [
       "LinearRegression()"
      ]
     },
     "execution_count": 81,
     "metadata": {},
     "output_type": "execute_result"
    }
   ],
   "source": [
    "rg=lm.LinearRegression()\n",
    "rg.fit(x[['SR']],x.Runs)"
   ]
  },
  {
   "cell_type": "code",
   "execution_count": 88,
   "id": "4cc56391-c81c-498e-a030-d8994e520700",
   "metadata": {},
   "outputs": [
    {
     "data": {
      "text/plain": [
       "[<matplotlib.lines.Line2D at 0x2970514c670>]"
      ]
     },
     "execution_count": 88,
     "metadata": {},
     "output_type": "execute_result"
    },
    {
     "data": {
      "image/png": "[encoded data removed]",
      "text/plain": [
       "<Figure size 640x480 with 1 Axes>"
      ]
     },
     "metadata": {},
     "output_type": "display_data"
    }
   ],
   "source": [
    "plt.scatter(x['SR'],x['Runs'])\n",
    "plt.plot(x['SR'],rg.predict(x[['SR']]),color='r')"
   ]
  },
  {
   "cell_type": "code",
   "execution_count": null,
   "id": "fa6b2c22-177c-4a59-86e6-b156c596802f",
   "metadata": {},
   "outputs": [],
   "source": []
  }
 ],
 "metadata": {
  "kernelspec": {
   "display_name": "Python 3 (ipykernel)",
   "language": "python",
   "name": "python3"
  },
  "language_info": {
   "codemirror_mode": {
    "name": "ipython",
    "version": 3
   },
   "file_extension": ".py",
   "mimetype": "text/x-python",
   "name": "python",
   "nbconvert_exporter": "python",
   "pygments_lexer": "ipython3",
   "version": "3.9.13"
  }
 },
 "nbformat": 4,
 "nbformat_minor": 5
}
